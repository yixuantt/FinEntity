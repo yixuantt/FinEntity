{
 "cells": [
  {
   "cell_type": "code",
   "execution_count": 1,
   "id": "94d628d6",
   "metadata": {},
   "outputs": [],
   "source": [
    "# load model\n",
    "import pickle\n",
    "\n",
    "with open('model_bert_crf', 'rb') as f:\n",
    "    model = pickle.load(f)"
   ]
  },
  {
   "cell_type": "code",
   "execution_count": 5,
   "id": "02f8b39e",
   "metadata": {
    "tags": []
   },
   "outputs": [],
   "source": [
    "import json\n",
    "from sequence_aligner.dataset import PredictDatasetCRF\n",
    "from sequence_aligner.containers import TraingingBatch,PredictBatch\n",
    "from transformers import BertTokenizerFast\n",
    "from sequence_aligner.labelset import LabelSet\n",
    "from util.train import predict,predict4news\n",
    "from torch import cuda\n",
    "import warnings\n",
    "warnings.filterwarnings('ignore')\n",
    "\n",
    "f3 = open('./news_data/20230105.json', 'r', encoding='utf8')\n",
    "content3 = f3.read() \n",
    "raw = json.loads(content3)\n",
    "data = [example for example in raw if example[\"content\"]!= None and example[\"content\"]!=[]]\n",
    "\n",
    "\n",
    "save_list = []\n",
    "tokenizer = BertTokenizerFast.from_pretrained('yiyanghkust/finbert-pretrain')\n",
    "label_set = LabelSet(labels=[\"Neutral\", \"Positive\", \"Negative\"])  # label in this dataset\n",
    "device = 'cuda:0' if cuda.is_available() else 'cpu'\n",
    "model.to(device)\n",
    "\n",
    "for item in data:\n",
    "    predict4news(model,item,device,tokenizer,label_set,save_list)\n",
    "    \n",
    "# with open(\"./news_data/news_entity/20230105_entity.json\",'w',encoding='utf-8') as f:\n",
    "#     json.dump(save_list, f,ensure_ascii=False)"
   ]
  },
  {
   "cell_type": "code",
   "execution_count": 8,
   "id": "1801ee32",
   "metadata": {
    "collapsed": true,
    "jupyter": {
     "outputs_hidden": true
    },
    "tags": []
   },
   "outputs": [
    {
     "name": "stdout",
     "output_type": "stream",
     "text": [
      "[{'date': '2023-01-05 23:00:33', 'content': 'Ethereum is currently following the general crypto market trend at this point and has been posting only slight gains in the last 24 hours. With the bear market in full swing, a large number of cryptocurrencies remain at risk of losing more of their value. However, for Ethereum, there could be a bull trend on the horizon and it has to do with staking on the network.\\nShanghai Upgrade Will Drive Ethereum Up\\nCurrently, compared to the other Layer 1 proof of stake networks in the sector, Ethereum sees the lowest percentage of supply staked. At less than 14 of ETH supply being staked, it comes down to there not being a withdrawal mechanism for those who stake on the network but this could change very soon and bring with it renewed vigor to the market.\\nThe Ethereum “Shanghai” upgrade is expected to take place sometime in March 2023 and a Matrixport report shared with NewsBTC via email expects this to be a bull trigger for the digital asset. As it puts it, “it seems extremely likely that more ETH will be staked after March and this could put upward pressure on ETH prices.”\\nThe reasoning behind this is a simple one; the more ETH is staked, the less supply in the market, and scarcity leads to higher prices. Instead of staked ETH volume actually declining, it is expected to increase because once withdrawals are possible, investors will be more confident to stake their coins, knowing that they can easily get it back.\\n“With more ETH being staked and removed from circulation, the downside price pressure seems limited as long as ETH remains staked.”\\nAnother Rally To $1,600 for ETH\\nThe report further elaborates on its expected price reaction for Ethereum following the “Shanghai” upgrade. It notes that the digital asset is already breaking out of its sideways consolidation which is a good thing as such a breakout from previous consolidations had seen ETH rally as high as 39% in 2022.\\nETH jumps above $1,250 | Source: ETHUSD on TradingView.com\\nSo if another breakout such as this were to take place, it is possible that the digital asset could see an over 27% increase just like it did in October 2022. This would obviously bring its price back up to $1,600 with a 27% rally, and above $1,750 with a 39% rally. It also predicts lower volatility for the year 2023, but still expects investors to see a 9.8% increase with a 63% implied volatility for March 23.\\nBesides the factors outlined in the Matrixport report, another thing that could support this bull case is a “buy the rumor” event. These often occur leading up to important upgrades such as “Shanghai” where investors capitalize on the anticipation to drive the price of a digital asset up. Therefore, in the months and weeks leading up to the upgrade in March, multiple rallies could be triggered which would bring ETH’s price to at least $1,500.', 'entity': ['eth', 'eth', 'eth', 'ethereum', 'digital', 'eth', 'eth', 'tradingview. com', 'ethereum', 'ethereum', 'ethereum', 'ethereum', 'eth supply', 'ethereum', 'newsbtc', 'via email', 'matrixport', 'eth'], 'sentiment': ['Neutral', 'Neutral', 'Neutral', 'Neutral', 'Neutral', 'Neutral', 'Neutral', 'Neutral', 'Positive', 'Neutral', 'Neutral', 'Neutral', 'Neutral', 'Neutral', 'Neutral', 'Neutral', 'Neutral', 'Neutral']}, {'date': '2023-01-05 22:19:48', 'content': 'One example he pointed to is the way consumers buy cars today. Rather than making the trek to a local dealership, Bzeih said consumers – via the metaverse – will be able to “configure the colors, features [and] functions,” of a car. He pointed to the Fiat 500e, which Microsoft is featuring in its virtual car showroom. Microsoft’s partnership with metaverse company Touchcast to lead the data development of that Fiat model is a “natural progression,” he said.', 'entity': ['bzeih', 'microsoft', 'microsoft', 'fiat 500 metaverse company', 'touchcast'], 'sentiment': ['Neutral', 'Neutral', 'Neutral', 'Neutral', 'Neutral']}, {'date': '2023-01-05 21:20:25', 'content': 'Using the Venly Shopify merchant app, retailers can sell NFTs with \"minimal technical knowledge,\" according to a press release. NFTs created by merchants are \"automatically turned into products\" that can be displayed and purchased on their storefronts. In addition, buyers are not required to have an existing crypto wallet and instead will receive an email with a link to a newly created blockchain wallet.', 'entity': [], 'sentiment': []}, {'date': '2023-01-05 20:24:37', 'content': 'According to the complaint filed Jan. 3, Michel and other unnamed defendants marketed the Mutant Ape Planet NFTs to prospective buyers by promising them their purchases would come with benefits including “rewards, raffles, exclusive access to other cryptocurrency assets, and the support of a community wallet with funds to be used to market the NFTs.” Project developers also made vague promises about acquiring “metaverse land” for the NFT project, according to authorities.', 'entity': ['michel', 'mutant ape planet', 'nft'], 'sentiment': ['Neutral', 'Neutral', 'Neutral']}, {'date': '2023-01-05 19:32:52', 'content': 'Geneva, Switzerland, 5th January, 2023, Chainwire\\nFor TRON DAO , 2022 was a year of historic growth. Here are 22 highlights from the fastest growing public blockchain’s record year:\\n# 22 possibly the world’s biggest DAO\\nOn January 5, TRON announced its restructuring to become a decentralized autonomous organization (DAO). On April 11, Forbes declared that TRON DAO is probably the world’s biggest DAO, as the TRON blockchain now boasts more than 132 million user accounts.\\n# 21 APENFT Marketplace\\nOn April 15, the APENFT Marketplace launched on the TRON blockchain.\\n# 20 over 130 digital asset exchanges\\nTRX is now supported, listed, and traded on over 130 digital asset exchanges, payment systems, and trading platforms, including Binance.US, Meson, Crypto Finance (member of Deutsche Börse Group), Fireblocks, Bitkub, Bitso, DMM Bitcoin, Kraken (TRX futures contracts), Plisio, BTCBOX, Wirex, OKCoin Japan, BitMEX, Blockchain.com, and Guardarian.\\n# 19 the Enterprise Ethereum Alliance\\nTRON joined the Enterprise Ethereum Alliance to advance interoperable blockchain integration into daily business operations, focusing mainly in two working groups: Cross-Chain Interoperability and DeFi Risk Assessment, Management, and Accounting (DRAMA).\\n# 18 expanded collaboration with Huobi\\nIn October, the TRON founder and current ambassador H.E. Justin Sun was named to Huobi’s Global Advisory Board, and the TRON ecosystem has started more partnerships with the exchange.\\n# 17 the Peg Stability Module\\nOn August 3, the Peg Stability Module (PSM) was rolled out, which allows users to swap between USDD and other mainstream stablecoins like USDT and USDC at a 1:1 ratio.\\n# 16 sponsorships\\nIn 2022, TRON was the major sponsor of Consensus, NFT NYC, Mainnet by Messari, Converge by Circle, Binance Blockchain Week in Paris, Smartcon by Chainlink, Token2049, and more. TRON also hosted several VIP in-person afterparties - TRON Whale Night, at Bitcoin 2022, Consensus, and Mainnet.\\n# 15 the Binance CMC Crypto Top 10 EWI\\nOn October 17, TRX was listed on the Binance CMC Cryptocurrency Top 10 Equal-Weighted Index, which tracks the performance of the top ten digital assets on CoinMarketCap as ranked by market capitalization.\\n# 14 feel the burn\\nIn 2022, the total amount of TRX burned from various utilities was 11.74 billion, considerably accelerating its deflation.\\n# 13 TRON Academy\\nTRON Academy officially launched November 12, when 270+ students from top-tier university blockchain clubs gathered on the Harvard University campus for the \"Hacker House\" event.\\n# 12 Travala.com\\nOn August 10, Travala.com, the world\\'s leading blockchain-based travel booking platform, announced its adoption of USDD and TRX as means of payment.\\n# 11 the 2nd largest stablecoin ecosystem\\nTRON now has the second-largest total stablecoin circulation, next to Ethereum, with a market cap of $39.5 billion.\\n# 10 the TRON DAO Ecosystem Fund\\nTRON DAO launched their Ecosystem Fund with 8 unique programs for funding, including TRON DAO Ventures, which intends to invest in promising blockchain startups.\\n# 9 the national blockchain of Dominica\\nOn October 7, the Commonwealth of Dominica announced TRON as its national blockchain and authorized seven TRON-based cryptocurrencies as legal tender for everyday use.\\n# 8 the TRON DAO Reserve\\nOn April 21, the TRON DAO Reserve was established to safeguard the overall blockchain industry and crypto market.\\n# 7 greater influence\\nOn August 1, Crypto Daily described H.E. Justin Sun as one of the premier leaders in the Web3 era.\\n# 6 the stablecoin USDD\\nIn May 2022, TRON launched USDD, the first over-collateralized, decentralized stablecoin, which is now held in more than 130,000 wallets. On November 2, Messari released the report “ State of USDD Q3 2022 .” USDD finished the year with a circulating supply of over 725 million and a collateral ratio of greater than 200%.\\n# 5 one of the most eco-friendly blockchains\\nOn August 24, in the report titled \" Energy Efficiency and Carbon Footprint of the TRON Blockchain \" released by the Crypto Carbon Ratings Institute (CCRI), TRON was rated as one of the most eco-friendly blockchains.\\n# 4 the 4th anniversary of MainNet independence\\nOn May 31, TRON celebrated the fourth anniversary of its MainNet launch.\\n# 3 three stellar HackaTRONs\\nThree Seasons of the TRON Grand Hackathon, a.k.a. “HackaTRON,” took place in 2022, with over 2300 total participants and a combined total prize pool of over $2.7 million.\\n# 2 TVL\\nAccording to DefiLlama , by the end of Q3, the Total Value Locked (TVL) on TRON had reached $6.33 billion, up 61% from Q2, surpassing BSC to become the blockchain network with the second-largest TVL worldwide. Messari released its first ever TRX research report on November 5, titled the “ State of TRON Q3 2022 .”\\n# 1 from 69 million total TRON user accounts to 132 million\\n63 million new TRON user accounts were established in 2022. TRON aims to become the primary settlement layer of the global economy. As the global trend-setter in cryptocurrency, TRON is developing an ecosystem infrastructure that will be able to serve every human on the planet.\\nAbout TRON DAO\\nTRON DAO is a community-governed DAO dedicated to accelerating the decentralization of the internet via blockchain technology and dApps.\\nFounded in September 2017 by H.E. Justin Sun, the TRON network has continued to deliver impressive achievements since MainNet launch in May 2018. July 2018 also marked the ecosystem integration of BitTorrent, a pioneer in decentralized Web3 services boasting over 100 million monthly active users. The TRON network has gained incredible traction in recent years. As of January 2023, it has over 133 million total user accounts on the blockchain, more than 4.5 billion total transactions, and over $9.2 billion in total value locked (TVL), as reported on TRONSCAN. In addition, TRON hosts the largest circulating supply of USD Tether (USDT) stablecoin across the globe, overtaking USDT on Ethereum since April 2021. The TRON network completed full decentralization in December 2021 and is now a community-governed DAO. In May 2022, the over-collateralized decentralized stablecoin USDD was launched on the TRON blockchain, backed by the first-ever crypto reserve for the blockchain industry - TRON DAO Reserve, marking TRON\\'s official entry into decentralized stablecoins. Most recently in October 2022, TRON was designated as the national blockchain for the Commonwealth of Dominica, which is the first time a major public blockchain partnering with a sovereign nation to develop its national blockchain infrastructure. On top of the government’s endorsement to issue Dominica Coin (“DMC”), a blockchain-based fan token to help promote Dominica’s global fanfare, seven existing TRON-based tokens - TRX, BTT, NFT, JST, USDD, USDT, TUSD, have been granted statutory status as authorized digital currency and medium of exchange in the country.\\nTRONNetwork | TRONDAO | Twitter | YouTube | Telegram | Discord | Reddit | GitHub | Medium | Forum\\nContact\\nHayward Wong', 'entity': ['tron', 'crypto carbon ratings institute', 'ccri', 'tron', 'mainnet independence', 'tron', 'tron grand', 'tron', 'consensus', 'nft nyc', 'mainnet', 'converge by circle', 'binance', 'smartcon', 'chainlink', 'tron', 'tok bitcoin 2022', 'consensus', 'mainnet', 'binance cmc', 'trx', 'binance cmc', 'btt', 'nft', 'jst', 'usdd', 'usdt', 'tusd', 'tronnetwork', 'twitter', 'youtube', 'telegram', 'tron', 'tron', 'tron', 'tron', 'tron', 'ap ap blockchain', 'defillama', 'tron', 'bsc', 'messari', 'tron', 'tron', 'tron', 'sun stableco usdd', 'stablecoin', 'messari', 'tronscan', 'tron', 'tron', 'tron academy tron academy', 'harvard university travala. com', 'travala. com', 'trx', 'stablecoin', 'tron', 'tron', 'tron', 'mainnet', 'bittorrent', 'tron', 'huobi', 'tron', 'huobi', 'tron', 'usdt', 'usdc', 'binance', 'us meson', 'crypto finance', 'deutsche borse group', 'fireblocks', 'bitkub', 'bitso', 'dmm bitcoin', 'kraken', 'plisio', 'btcbox', 'wirex', 'okcoin japan', 'bitmex', 'blockchain. com', 'guardarian', 'enterprise ethereum alliance tron', 'enterprise ethereum alliance', 'ethereum', 'tron dao ecosystem tron dao', 'ecosystem fund', 'tron dao ventures', 'commonwealth of dominica', 'tron', 'tron dao reserve', 'tron dao reserve', 'tron dao reserve', 'tron', 'stablecoins', 'tron', 'commonwealth of dominica coin', 'dominica'], 'sentiment': ['Neutral', 'Neutral', 'Neutral', 'Neutral', 'Neutral', 'Neutral', 'Neutral', 'Neutral', 'Neutral', 'Neutral', 'Neutral', 'Neutral', 'Neutral', 'Neutral', 'Neutral', 'Neutral', 'Neutral', 'Neutral', 'Neutral', 'Neutral', 'Neutral', 'Neutral', 'Neutral', 'Neutral', 'Neutral', 'Neutral', 'Neutral', 'Neutral', 'Neutral', 'Neutral', 'Neutral', 'Neutral', 'Neutral', 'Neutral', 'Neutral', 'Neutral', 'Neutral', 'Neutral', 'Neutral', 'Positive', 'Neutral', 'Neutral', 'Neutral', 'Neutral', 'Neutral', 'Neutral', 'Neutral', 'Neutral', 'Neutral', 'Neutral', 'Neutral', 'Neutral', 'Neutral', 'Neutral', 'Neutral', 'Neutral', 'Neutral', 'Neutral', 'Neutral', 'Neutral', 'Neutral', 'Neutral', 'Neutral', 'Neutral', 'Neutral', 'Neutral', 'Neutral', 'Neutral', 'Neutral', 'Neutral', 'Neutral', 'Neutral', 'Neutral', 'Neutral', 'Neutral', 'Neutral', 'Neutral', 'Neutral', 'Neutral', 'Neutral', 'Neutral', 'Neutral', 'Neutral', 'Neutral', 'Neutral', 'Neutral', 'Neutral', 'Neutral', 'Neutral', 'Neutral', 'Neutral', 'Neutral', 'Neutral', 'Neutral', 'Neutral', 'Neutral', 'Neutral', 'Neutral', 'Neutral', 'Neutral']}]\n"
     ]
    }
   ],
   "source": [
    "print(save_list[:5])"
   ]
  },
  {
   "cell_type": "code",
   "execution_count": null,
   "id": "3228123c",
   "metadata": {},
   "outputs": [],
   "source": []
  },
  {
   "cell_type": "code",
   "execution_count": null,
   "id": "b35785cf-c0c1-431d-8ba1-457f0e2d5591",
   "metadata": {},
   "outputs": [],
   "source": []
  }
 ],
 "metadata": {
  "kernelspec": {
   "display_name": "Python 3 (ipykernel)",
   "language": "python",
   "name": "python3"
  },
  "language_info": {
   "codemirror_mode": {
    "name": "ipython",
    "version": 3
   },
   "file_extension": ".py",
   "mimetype": "text/x-python",
   "name": "python",
   "nbconvert_exporter": "python",
   "pygments_lexer": "ipython3",
   "version": "3.10.9"
  }
 },
 "nbformat": 4,
 "nbformat_minor": 5
}
